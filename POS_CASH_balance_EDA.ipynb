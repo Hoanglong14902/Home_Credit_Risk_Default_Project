{
 "cells": [
  {
   "cell_type": "code",
   "execution_count": 1,
   "metadata": {
    "_cell_guid": "b1076dfc-b9ad-4769-8c92-a6c4dae69d19",
    "_uuid": "8f2839f25d086af736a60e9eeb907d3b93b6e0e5",
    "execution": {
     "iopub.execute_input": "2022-11-03T01:32:11.725986Z",
     "iopub.status.busy": "2022-11-03T01:32:11.725593Z",
     "iopub.status.idle": "2022-11-03T01:32:12.729568Z",
     "shell.execute_reply": "2022-11-03T01:32:12.728386Z",
     "shell.execute_reply.started": "2022-11-03T01:32:11.725907Z"
    }
   },
   "outputs": [
    {
     "name": "stdout",
     "output_type": "stream",
     "text": [
      "/kaggle/input/home-credit-default-risk/sample_submission.csv\n",
      "/kaggle/input/home-credit-default-risk/bureau_balance.csv\n",
      "/kaggle/input/home-credit-default-risk/POS_CASH_balance.csv\n",
      "/kaggle/input/home-credit-default-risk/application_train.csv\n",
      "/kaggle/input/home-credit-default-risk/HomeCredit_columns_description.csv\n",
      "/kaggle/input/home-credit-default-risk/application_test.csv\n",
      "/kaggle/input/home-credit-default-risk/previous_application.csv\n",
      "/kaggle/input/home-credit-default-risk/credit_card_balance.csv\n",
      "/kaggle/input/home-credit-default-risk/installments_payments.csv\n",
      "/kaggle/input/home-credit-default-risk/bureau.csv\n"
     ]
    }
   ],
   "source": [
    "import numpy as np \n",
    "import pandas as pd \n",
    "import matplotlib.pyplot as plt\n",
    "import seaborn as sns\n",
    "import os\n",
    "for dirname, _, filenames in os.walk('/kaggle/input'):\n",
    "    for filename in filenames:\n",
    "        print(os.path.join(dirname, filename))\n",
    "pd.set_option('display.max_colwidth', None)"
   ]
  },
  {
   "cell_type": "markdown",
   "metadata": {},
   "source": [
    "**POS_CASH_balance.csv**\n",
    "\n",
    "Monthly balance snapshots of previous POS (point of sales) and cash loans that the applicant had with Home Credit.\n",
    "This table has one row for each month of history of every previous credit in Home Credit (consumer credit and cash loans) related to loans in our sample – i.e. the table has (#loans in sample * # of relative previous credits * # of months in which we have some history observable for the previous credits) rows.****"
   ]
  },
  {
   "cell_type": "markdown",
   "metadata": {},
   "source": [
    "# A first sight to our dataset"
   ]
  },
  {
   "cell_type": "code",
   "execution_count": 2,
   "metadata": {
    "execution": {
     "iopub.execute_input": "2022-11-01T11:55:37.650992Z",
     "iopub.status.busy": "2022-11-01T11:55:37.650561Z",
     "iopub.status.idle": "2022-11-01T11:55:37.672936Z",
     "shell.execute_reply": "2022-11-01T11:55:37.671904Z",
     "shell.execute_reply.started": "2022-11-01T11:55:37.650958Z"
    }
   },
   "outputs": [],
   "source": [
    "#Columns description (145-152)\n",
    "columns_description = pd.read_csv('../input/home-credit-default-risk/HomeCredit_columns_description.csv', encoding = 'ISO-8859-1')"
   ]
  },
  {
   "cell_type": "code",
   "execution_count": 3,
   "metadata": {
    "execution": {
     "iopub.execute_input": "2022-11-01T11:55:50.940556Z",
     "iopub.status.busy": "2022-11-01T11:55:50.940163Z",
     "iopub.status.idle": "2022-11-01T11:55:50.965312Z",
     "shell.execute_reply": "2022-11-01T11:55:50.963720Z",
     "shell.execute_reply.started": "2022-11-01T11:55:50.940525Z"
    }
   },
   "outputs": [
    {
     "data": {
      "text/html": [
       "<div>\n",
       "<style scoped>\n",
       "    .dataframe tbody tr th:only-of-type {\n",
       "        vertical-align: middle;\n",
       "    }\n",
       "\n",
       "    .dataframe tbody tr th {\n",
       "        vertical-align: top;\n",
       "    }\n",
       "\n",
       "    .dataframe thead th {\n",
       "        text-align: right;\n",
       "    }\n",
       "</style>\n",
       "<table border=\"1\" class=\"dataframe\">\n",
       "  <thead>\n",
       "    <tr style=\"text-align: right;\">\n",
       "      <th></th>\n",
       "      <th>Unnamed: 0</th>\n",
       "      <th>Table</th>\n",
       "      <th>Row</th>\n",
       "      <th>Description</th>\n",
       "      <th>Special</th>\n",
       "    </tr>\n",
       "  </thead>\n",
       "  <tbody>\n",
       "    <tr>\n",
       "      <th>142</th>\n",
       "      <td>145</td>\n",
       "      <td>POS_CASH_balance.csv</td>\n",
       "      <td>SK_ID_PREV</td>\n",
       "      <td>ID of previous credit in Home Credit related to loan in our sample. (One loan in our sample can have 0,1,2 or more previous loans in Home Credit)</td>\n",
       "      <td>NaN</td>\n",
       "    </tr>\n",
       "    <tr>\n",
       "      <th>143</th>\n",
       "      <td>146</td>\n",
       "      <td>POS_CASH_balance.csv</td>\n",
       "      <td>SK_ID_CURR</td>\n",
       "      <td>ID of loan in our sample</td>\n",
       "      <td>NaN</td>\n",
       "    </tr>\n",
       "    <tr>\n",
       "      <th>144</th>\n",
       "      <td>147</td>\n",
       "      <td>POS_CASH_balance.csv</td>\n",
       "      <td>MONTHS_BALANCE</td>\n",
       "      <td>Month of balance relative to application date (-1 means the information to the freshest monthly snapshot, 0 means the information at application - often it will be the same as -1 as many banks are not updating the information to Credit Bureau regularly )</td>\n",
       "      <td>time only relative to the application</td>\n",
       "    </tr>\n",
       "    <tr>\n",
       "      <th>145</th>\n",
       "      <td>148</td>\n",
       "      <td>POS_CASH_balance.csv</td>\n",
       "      <td>CNT_INSTALMENT</td>\n",
       "      <td>Term of previous credit (can change over time)</td>\n",
       "      <td>NaN</td>\n",
       "    </tr>\n",
       "    <tr>\n",
       "      <th>146</th>\n",
       "      <td>149</td>\n",
       "      <td>POS_CASH_balance.csv</td>\n",
       "      <td>CNT_INSTALMENT_FUTURE</td>\n",
       "      <td>Installments left to pay on the previous credit</td>\n",
       "      <td>NaN</td>\n",
       "    </tr>\n",
       "    <tr>\n",
       "      <th>147</th>\n",
       "      <td>150</td>\n",
       "      <td>POS_CASH_balance.csv</td>\n",
       "      <td>NAME_CONTRACT_STATUS</td>\n",
       "      <td>Contract status during the month</td>\n",
       "      <td>NaN</td>\n",
       "    </tr>\n",
       "    <tr>\n",
       "      <th>148</th>\n",
       "      <td>151</td>\n",
       "      <td>POS_CASH_balance.csv</td>\n",
       "      <td>SK_DPD</td>\n",
       "      <td>DPD (days past due) during the month of previous credit</td>\n",
       "      <td>NaN</td>\n",
       "    </tr>\n",
       "    <tr>\n",
       "      <th>149</th>\n",
       "      <td>152</td>\n",
       "      <td>POS_CASH_balance.csv</td>\n",
       "      <td>SK_DPD_DEF</td>\n",
       "      <td>DPD during the month with tolerance (debts with low loan amounts are ignored) of the previous credit</td>\n",
       "      <td>NaN</td>\n",
       "    </tr>\n",
       "  </tbody>\n",
       "</table>\n",
       "</div>"
      ],
      "text/plain": [
       "     Unnamed: 0                 Table                    Row  \\\n",
       "142         145  POS_CASH_balance.csv            SK_ID_PREV    \n",
       "143         146  POS_CASH_balance.csv             SK_ID_CURR   \n",
       "144         147  POS_CASH_balance.csv         MONTHS_BALANCE   \n",
       "145         148  POS_CASH_balance.csv         CNT_INSTALMENT   \n",
       "146         149  POS_CASH_balance.csv  CNT_INSTALMENT_FUTURE   \n",
       "147         150  POS_CASH_balance.csv   NAME_CONTRACT_STATUS   \n",
       "148         151  POS_CASH_balance.csv                 SK_DPD   \n",
       "149         152  POS_CASH_balance.csv             SK_DPD_DEF   \n",
       "\n",
       "                                                                                                                                                                                                                                                        Description  \\\n",
       "142                                                                                                               ID of previous credit in Home Credit related to loan in our sample. (One loan in our sample can have 0,1,2 or more previous loans in Home Credit)   \n",
       "143                                                                                                                                                                                                                                        ID of loan in our sample   \n",
       "144  Month of balance relative to application date (-1 means the information to the freshest monthly snapshot, 0 means the information at application - often it will be the same as -1 as many banks are not updating the information to Credit Bureau regularly )   \n",
       "145                                                                                                                                                                                                                  Term of previous credit (can change over time)   \n",
       "146                                                                                                                                                                                                                 Installments left to pay on the previous credit   \n",
       "147                                                                                                                                                                                                                                Contract status during the month   \n",
       "148                                                                                                                                                                                                         DPD (days past due) during the month of previous credit   \n",
       "149                                                                                                                                                            DPD during the month with tolerance (debts with low loan amounts are ignored) of the previous credit   \n",
       "\n",
       "                                   Special  \n",
       "142                                    NaN  \n",
       "143                                    NaN  \n",
       "144  time only relative to the application  \n",
       "145                                    NaN  \n",
       "146                                    NaN  \n",
       "147                                    NaN  \n",
       "148                                    NaN  \n",
       "149                                    NaN  "
      ]
     },
     "execution_count": 3,
     "metadata": {},
     "output_type": "execute_result"
    }
   ],
   "source": [
    "columns_description[142:150]"
   ]
  },
  {
   "cell_type": "code",
   "execution_count": 3,
   "metadata": {
    "execution": {
     "iopub.execute_input": "2022-11-03T01:33:24.582044Z",
     "iopub.status.busy": "2022-11-03T01:33:24.581672Z",
     "iopub.status.idle": "2022-11-03T01:33:34.635756Z",
     "shell.execute_reply": "2022-11-03T01:33:34.634502Z",
     "shell.execute_reply.started": "2022-11-03T01:33:24.582015Z"
    }
   },
   "outputs": [],
   "source": [
    "POS_CASH_balance = pd.read_csv(\"../input/home-credit-default-risk/POS_CASH_balance.csv\") "
   ]
  },
  {
   "cell_type": "code",
   "execution_count": 17,
   "metadata": {
    "execution": {
     "iopub.execute_input": "2022-11-01T08:13:04.788016Z",
     "iopub.status.busy": "2022-11-01T08:13:04.787596Z",
     "iopub.status.idle": "2022-11-01T08:13:04.802135Z",
     "shell.execute_reply": "2022-11-01T08:13:04.800721Z",
     "shell.execute_reply.started": "2022-11-01T08:13:04.787982Z"
    }
   },
   "outputs": [
    {
     "data": {
      "text/html": [
       "<div>\n",
       "<style scoped>\n",
       "    .dataframe tbody tr th:only-of-type {\n",
       "        vertical-align: middle;\n",
       "    }\n",
       "\n",
       "    .dataframe tbody tr th {\n",
       "        vertical-align: top;\n",
       "    }\n",
       "\n",
       "    .dataframe thead th {\n",
       "        text-align: right;\n",
       "    }\n",
       "</style>\n",
       "<table border=\"1\" class=\"dataframe\">\n",
       "  <thead>\n",
       "    <tr style=\"text-align: right;\">\n",
       "      <th></th>\n",
       "      <th>SK_ID_PREV</th>\n",
       "      <th>SK_ID_CURR</th>\n",
       "      <th>MONTHS_BALANCE</th>\n",
       "      <th>CNT_INSTALMENT</th>\n",
       "      <th>CNT_INSTALMENT_FUTURE</th>\n",
       "      <th>NAME_CONTRACT_STATUS</th>\n",
       "      <th>SK_DPD</th>\n",
       "      <th>SK_DPD_DEF</th>\n",
       "    </tr>\n",
       "  </thead>\n",
       "  <tbody>\n",
       "    <tr>\n",
       "      <th>0</th>\n",
       "      <td>1803195</td>\n",
       "      <td>182943</td>\n",
       "      <td>-31</td>\n",
       "      <td>48.0</td>\n",
       "      <td>45.0</td>\n",
       "      <td>Active</td>\n",
       "      <td>0</td>\n",
       "      <td>0</td>\n",
       "    </tr>\n",
       "    <tr>\n",
       "      <th>1</th>\n",
       "      <td>1715348</td>\n",
       "      <td>367990</td>\n",
       "      <td>-33</td>\n",
       "      <td>36.0</td>\n",
       "      <td>35.0</td>\n",
       "      <td>Active</td>\n",
       "      <td>0</td>\n",
       "      <td>0</td>\n",
       "    </tr>\n",
       "    <tr>\n",
       "      <th>2</th>\n",
       "      <td>1784872</td>\n",
       "      <td>397406</td>\n",
       "      <td>-32</td>\n",
       "      <td>12.0</td>\n",
       "      <td>9.0</td>\n",
       "      <td>Active</td>\n",
       "      <td>0</td>\n",
       "      <td>0</td>\n",
       "    </tr>\n",
       "    <tr>\n",
       "      <th>3</th>\n",
       "      <td>1903291</td>\n",
       "      <td>269225</td>\n",
       "      <td>-35</td>\n",
       "      <td>48.0</td>\n",
       "      <td>42.0</td>\n",
       "      <td>Active</td>\n",
       "      <td>0</td>\n",
       "      <td>0</td>\n",
       "    </tr>\n",
       "    <tr>\n",
       "      <th>4</th>\n",
       "      <td>2341044</td>\n",
       "      <td>334279</td>\n",
       "      <td>-35</td>\n",
       "      <td>36.0</td>\n",
       "      <td>35.0</td>\n",
       "      <td>Active</td>\n",
       "      <td>0</td>\n",
       "      <td>0</td>\n",
       "    </tr>\n",
       "  </tbody>\n",
       "</table>\n",
       "</div>"
      ],
      "text/plain": [
       "   SK_ID_PREV  SK_ID_CURR  MONTHS_BALANCE  CNT_INSTALMENT  \\\n",
       "0     1803195      182943             -31            48.0   \n",
       "1     1715348      367990             -33            36.0   \n",
       "2     1784872      397406             -32            12.0   \n",
       "3     1903291      269225             -35            48.0   \n",
       "4     2341044      334279             -35            36.0   \n",
       "\n",
       "   CNT_INSTALMENT_FUTURE NAME_CONTRACT_STATUS  SK_DPD  SK_DPD_DEF  \n",
       "0                   45.0               Active       0           0  \n",
       "1                   35.0               Active       0           0  \n",
       "2                    9.0               Active       0           0  \n",
       "3                   42.0               Active       0           0  \n",
       "4                   35.0               Active       0           0  "
      ]
     },
     "execution_count": 17,
     "metadata": {},
     "output_type": "execute_result"
    }
   ],
   "source": [
    "POS_CASH_balance.head()"
   ]
  },
  {
   "cell_type": "code",
   "execution_count": 18,
   "metadata": {
    "execution": {
     "iopub.execute_input": "2022-11-01T08:13:04.804887Z",
     "iopub.status.busy": "2022-11-01T08:13:04.803874Z",
     "iopub.status.idle": "2022-11-01T08:13:04.822009Z",
     "shell.execute_reply": "2022-11-01T08:13:04.821042Z",
     "shell.execute_reply.started": "2022-11-01T08:13:04.804861Z"
    }
   },
   "outputs": [
    {
     "name": "stdout",
     "output_type": "stream",
     "text": [
      "<class 'pandas.core.frame.DataFrame'>\n",
      "RangeIndex: 10001358 entries, 0 to 10001357\n",
      "Data columns (total 8 columns):\n",
      " #   Column                 Dtype  \n",
      "---  ------                 -----  \n",
      " 0   SK_ID_PREV             int64  \n",
      " 1   SK_ID_CURR             int64  \n",
      " 2   MONTHS_BALANCE         int64  \n",
      " 3   CNT_INSTALMENT         float64\n",
      " 4   CNT_INSTALMENT_FUTURE  float64\n",
      " 5   NAME_CONTRACT_STATUS   object \n",
      " 6   SK_DPD                 int64  \n",
      " 7   SK_DPD_DEF             int64  \n",
      "dtypes: float64(2), int64(5), object(1)\n",
      "memory usage: 610.4+ MB\n"
     ]
    }
   ],
   "source": [
    "POS_CASH_balance.info()"
   ]
  },
  {
   "cell_type": "code",
   "execution_count": 19,
   "metadata": {
    "execution": {
     "iopub.execute_input": "2022-11-01T08:13:04.824391Z",
     "iopub.status.busy": "2022-11-01T08:13:04.824126Z",
     "iopub.status.idle": "2022-11-01T08:13:06.196188Z",
     "shell.execute_reply": "2022-11-01T08:13:06.195329Z",
     "shell.execute_reply.started": "2022-11-01T08:13:04.824368Z"
    }
   },
   "outputs": [
    {
     "data": {
      "text/plain": [
       "SK_ID_PREV               936325\n",
       "SK_ID_CURR               337252\n",
       "MONTHS_BALANCE               96\n",
       "CNT_INSTALMENT               73\n",
       "CNT_INSTALMENT_FUTURE        79\n",
       "NAME_CONTRACT_STATUS          9\n",
       "SK_DPD                     3400\n",
       "SK_DPD_DEF                 2307\n",
       "dtype: int64"
      ]
     },
     "execution_count": 19,
     "metadata": {},
     "output_type": "execute_result"
    }
   ],
   "source": [
    "POS_CASH_balance.nunique()"
   ]
  },
  {
   "cell_type": "code",
   "execution_count": 20,
   "metadata": {
    "execution": {
     "iopub.execute_input": "2022-11-01T08:13:06.197591Z",
     "iopub.status.busy": "2022-11-01T08:13:06.197345Z",
     "iopub.status.idle": "2022-11-01T08:13:06.204343Z",
     "shell.execute_reply": "2022-11-01T08:13:06.203355Z",
     "shell.execute_reply.started": "2022-11-01T08:13:06.197570Z"
    }
   },
   "outputs": [
    {
     "data": {
      "text/plain": [
       "(10001358, 8)"
      ]
     },
     "execution_count": 20,
     "metadata": {},
     "output_type": "execute_result"
    }
   ],
   "source": [
    "POS_CASH_balance.shape"
   ]
  },
  {
   "cell_type": "code",
   "execution_count": 21,
   "metadata": {
    "execution": {
     "iopub.execute_input": "2022-11-01T08:13:06.205727Z",
     "iopub.status.busy": "2022-11-01T08:13:06.205282Z",
     "iopub.status.idle": "2022-11-01T08:13:06.626203Z",
     "shell.execute_reply": "2022-11-01T08:13:06.624913Z",
     "shell.execute_reply.started": "2022-11-01T08:13:06.205698Z"
    }
   },
   "outputs": [
    {
     "data": {
      "text/plain": [
       "SK_ID_PREV                   0\n",
       "SK_ID_CURR                   0\n",
       "MONTHS_BALANCE               0\n",
       "CNT_INSTALMENT           26071\n",
       "CNT_INSTALMENT_FUTURE    26087\n",
       "NAME_CONTRACT_STATUS         0\n",
       "SK_DPD                       0\n",
       "SK_DPD_DEF                   0\n",
       "dtype: int64"
      ]
     },
     "execution_count": 21,
     "metadata": {},
     "output_type": "execute_result"
    }
   ],
   "source": [
    "POS_CASH_balance.isnull().sum()"
   ]
  },
  {
   "cell_type": "code",
   "execution_count": 22,
   "metadata": {
    "execution": {
     "iopub.execute_input": "2022-11-01T08:13:06.628483Z",
     "iopub.status.busy": "2022-11-01T08:13:06.627999Z",
     "iopub.status.idle": "2022-11-01T08:13:08.602825Z",
     "shell.execute_reply": "2022-11-01T08:13:08.601550Z",
     "shell.execute_reply.started": "2022-11-01T08:13:06.628446Z"
    }
   },
   "outputs": [
    {
     "data": {
      "text/html": [
       "<div>\n",
       "<style scoped>\n",
       "    .dataframe tbody tr th:only-of-type {\n",
       "        vertical-align: middle;\n",
       "    }\n",
       "\n",
       "    .dataframe tbody tr th {\n",
       "        vertical-align: top;\n",
       "    }\n",
       "\n",
       "    .dataframe thead th {\n",
       "        text-align: right;\n",
       "    }\n",
       "</style>\n",
       "<table border=\"1\" class=\"dataframe\">\n",
       "  <thead>\n",
       "    <tr style=\"text-align: right;\">\n",
       "      <th></th>\n",
       "      <th>SK_ID_PREV</th>\n",
       "      <th>SK_ID_CURR</th>\n",
       "      <th>MONTHS_BALANCE</th>\n",
       "      <th>CNT_INSTALMENT</th>\n",
       "      <th>CNT_INSTALMENT_FUTURE</th>\n",
       "      <th>SK_DPD</th>\n",
       "      <th>SK_DPD_DEF</th>\n",
       "    </tr>\n",
       "  </thead>\n",
       "  <tbody>\n",
       "    <tr>\n",
       "      <th>count</th>\n",
       "      <td>1.000136e+07</td>\n",
       "      <td>1.000136e+07</td>\n",
       "      <td>1.000136e+07</td>\n",
       "      <td>9.975287e+06</td>\n",
       "      <td>9.975271e+06</td>\n",
       "      <td>1.000136e+07</td>\n",
       "      <td>1.000136e+07</td>\n",
       "    </tr>\n",
       "    <tr>\n",
       "      <th>mean</th>\n",
       "      <td>1.903217e+06</td>\n",
       "      <td>2.784039e+05</td>\n",
       "      <td>-3.501259e+01</td>\n",
       "      <td>1.708965e+01</td>\n",
       "      <td>1.048384e+01</td>\n",
       "      <td>1.160693e+01</td>\n",
       "      <td>6.544684e-01</td>\n",
       "    </tr>\n",
       "    <tr>\n",
       "      <th>std</th>\n",
       "      <td>5.358465e+05</td>\n",
       "      <td>1.027637e+05</td>\n",
       "      <td>2.606657e+01</td>\n",
       "      <td>1.199506e+01</td>\n",
       "      <td>1.110906e+01</td>\n",
       "      <td>1.327140e+02</td>\n",
       "      <td>3.276249e+01</td>\n",
       "    </tr>\n",
       "    <tr>\n",
       "      <th>min</th>\n",
       "      <td>1.000001e+06</td>\n",
       "      <td>1.000010e+05</td>\n",
       "      <td>-9.600000e+01</td>\n",
       "      <td>1.000000e+00</td>\n",
       "      <td>0.000000e+00</td>\n",
       "      <td>0.000000e+00</td>\n",
       "      <td>0.000000e+00</td>\n",
       "    </tr>\n",
       "    <tr>\n",
       "      <th>25%</th>\n",
       "      <td>1.434405e+06</td>\n",
       "      <td>1.895500e+05</td>\n",
       "      <td>-5.400000e+01</td>\n",
       "      <td>1.000000e+01</td>\n",
       "      <td>3.000000e+00</td>\n",
       "      <td>0.000000e+00</td>\n",
       "      <td>0.000000e+00</td>\n",
       "    </tr>\n",
       "    <tr>\n",
       "      <th>50%</th>\n",
       "      <td>1.896565e+06</td>\n",
       "      <td>2.786540e+05</td>\n",
       "      <td>-2.800000e+01</td>\n",
       "      <td>1.200000e+01</td>\n",
       "      <td>7.000000e+00</td>\n",
       "      <td>0.000000e+00</td>\n",
       "      <td>0.000000e+00</td>\n",
       "    </tr>\n",
       "    <tr>\n",
       "      <th>75%</th>\n",
       "      <td>2.368963e+06</td>\n",
       "      <td>3.674290e+05</td>\n",
       "      <td>-1.300000e+01</td>\n",
       "      <td>2.400000e+01</td>\n",
       "      <td>1.400000e+01</td>\n",
       "      <td>0.000000e+00</td>\n",
       "      <td>0.000000e+00</td>\n",
       "    </tr>\n",
       "    <tr>\n",
       "      <th>max</th>\n",
       "      <td>2.843499e+06</td>\n",
       "      <td>4.562550e+05</td>\n",
       "      <td>-1.000000e+00</td>\n",
       "      <td>9.200000e+01</td>\n",
       "      <td>8.500000e+01</td>\n",
       "      <td>4.231000e+03</td>\n",
       "      <td>3.595000e+03</td>\n",
       "    </tr>\n",
       "  </tbody>\n",
       "</table>\n",
       "</div>"
      ],
      "text/plain": [
       "         SK_ID_PREV    SK_ID_CURR  MONTHS_BALANCE  CNT_INSTALMENT  \\\n",
       "count  1.000136e+07  1.000136e+07    1.000136e+07    9.975287e+06   \n",
       "mean   1.903217e+06  2.784039e+05   -3.501259e+01    1.708965e+01   \n",
       "std    5.358465e+05  1.027637e+05    2.606657e+01    1.199506e+01   \n",
       "min    1.000001e+06  1.000010e+05   -9.600000e+01    1.000000e+00   \n",
       "25%    1.434405e+06  1.895500e+05   -5.400000e+01    1.000000e+01   \n",
       "50%    1.896565e+06  2.786540e+05   -2.800000e+01    1.200000e+01   \n",
       "75%    2.368963e+06  3.674290e+05   -1.300000e+01    2.400000e+01   \n",
       "max    2.843499e+06  4.562550e+05   -1.000000e+00    9.200000e+01   \n",
       "\n",
       "       CNT_INSTALMENT_FUTURE        SK_DPD    SK_DPD_DEF  \n",
       "count           9.975271e+06  1.000136e+07  1.000136e+07  \n",
       "mean            1.048384e+01  1.160693e+01  6.544684e-01  \n",
       "std             1.110906e+01  1.327140e+02  3.276249e+01  \n",
       "min             0.000000e+00  0.000000e+00  0.000000e+00  \n",
       "25%             3.000000e+00  0.000000e+00  0.000000e+00  \n",
       "50%             7.000000e+00  0.000000e+00  0.000000e+00  \n",
       "75%             1.400000e+01  0.000000e+00  0.000000e+00  \n",
       "max             8.500000e+01  4.231000e+03  3.595000e+03  "
      ]
     },
     "execution_count": 22,
     "metadata": {},
     "output_type": "execute_result"
    }
   ],
   "source": [
    "POS_CASH_balance.describe()"
   ]
  },
  {
   "cell_type": "code",
   "execution_count": 24,
   "metadata": {
    "execution": {
     "iopub.execute_input": "2022-11-01T15:44:09.071111Z",
     "iopub.status.busy": "2022-11-01T15:44:09.070658Z",
     "iopub.status.idle": "2022-11-01T15:44:09.615210Z",
     "shell.execute_reply": "2022-11-01T15:44:09.613741Z",
     "shell.execute_reply.started": "2022-11-01T15:44:09.071075Z"
    }
   },
   "outputs": [
    {
     "data": {
      "text/plain": [
       "0    0.260835\n",
       "1    0.260675\n",
       "Name: Percentage of missing values, dtype: float64"
      ]
     },
     "execution_count": 24,
     "metadata": {},
     "output_type": "execute_result"
    }
   ],
   "source": [
    "#Calculate and visualize a percentage of missing values\n",
    "missing_values_sr = POS_CASH_balance.isnull().sum()\n",
    "missing_values_df = missing_values_sr.loc[missing_values_sr > 0].sort_values(ascending = False).reset_index()\n",
    "missing_values_df.columns = [\"Feature\", \"Number of missing values\"]\n",
    "missing_values_df[\"Percentage of missing values\"] = (missing_values_df[\"Number of missing values\"] / POS_CASH_balance.shape[0]) * 100\n",
    "missing_values_df[\"Percentage of missing values\"]"
   ]
  },
  {
   "cell_type": "code",
   "execution_count": 23,
   "metadata": {
    "execution": {
     "iopub.execute_input": "2022-11-01T15:43:24.871267Z",
     "iopub.status.busy": "2022-11-01T15:43:24.870821Z",
     "iopub.status.idle": "2022-11-01T15:43:25.093783Z",
     "shell.execute_reply": "2022-11-01T15:43:25.092567Z",
     "shell.execute_reply.started": "2022-11-01T15:43:24.871234Z"
    }
   },
   "outputs": [
    {
     "data": {
      "text/plain": [
       "Text(0.5, 1.0, 'Percentage of missing values in the pos cash balance data')"
      ]
     },
     "execution_count": 23,
     "metadata": {},
     "output_type": "execute_result"
    },
    {
     "data": {
      "image/png": "[encoded data removed]",
      "text/plain": [
       "<Figure size 432x288 with 1 Axes>"
      ]
     },
     "metadata": {
      "needs_background": "light"
     },
     "output_type": "display_data"
    }
   ],
   "source": [
    "sns.barplot(x = missing_values_df[\"Feature\"], y = missing_values_df[\"Percentage of missing values\"])\n",
    "plt.xticks(rotation = 90)\n",
    "plt.title(\"Percentage of missing values in the pos cash balance data\")"
   ]
  },
  {
   "cell_type": "markdown",
   "metadata": {},
   "source": [
    "Here, only two features have a missing values. The amount of missing values is very small (0.25%) and identical for both features."
   ]
  },
  {
   "cell_type": "code",
   "execution_count": 8,
   "metadata": {
    "execution": {
     "iopub.execute_input": "2022-11-01T15:25:56.611708Z",
     "iopub.status.busy": "2022-11-01T15:25:56.611302Z",
     "iopub.status.idle": "2022-11-01T15:25:56.977271Z",
     "shell.execute_reply": "2022-11-01T15:25:56.975747Z",
     "shell.execute_reply.started": "2022-11-01T15:25:56.611677Z"
    }
   },
   "outputs": [
    {
     "name": "stdout",
     "output_type": "stream",
     "text": [
      "POS_CASH Shape: (10001358, 6)\n"
     ]
    },
    {
     "data": {
      "text/html": [
       "<div>\n",
       "<style scoped>\n",
       "    .dataframe tbody tr th:only-of-type {\n",
       "        vertical-align: middle;\n",
       "    }\n",
       "\n",
       "    .dataframe tbody tr th {\n",
       "        vertical-align: top;\n",
       "    }\n",
       "\n",
       "    .dataframe thead th {\n",
       "        text-align: right;\n",
       "    }\n",
       "</style>\n",
       "<table border=\"1\" class=\"dataframe\">\n",
       "  <thead>\n",
       "    <tr style=\"text-align: right;\">\n",
       "      <th></th>\n",
       "      <th>MONTHS_BALANCE</th>\n",
       "      <th>CNT_INSTALMENT</th>\n",
       "      <th>CNT_INSTALMENT_FUTURE</th>\n",
       "      <th>NAME_CONTRACT_STATUS</th>\n",
       "      <th>SK_DPD</th>\n",
       "      <th>SK_DPD_DEF</th>\n",
       "    </tr>\n",
       "  </thead>\n",
       "  <tbody>\n",
       "    <tr>\n",
       "      <th>0</th>\n",
       "      <td>-31</td>\n",
       "      <td>48.0</td>\n",
       "      <td>45.0</td>\n",
       "      <td>Active</td>\n",
       "      <td>0</td>\n",
       "      <td>0</td>\n",
       "    </tr>\n",
       "    <tr>\n",
       "      <th>1</th>\n",
       "      <td>-33</td>\n",
       "      <td>36.0</td>\n",
       "      <td>35.0</td>\n",
       "      <td>Active</td>\n",
       "      <td>0</td>\n",
       "      <td>0</td>\n",
       "    </tr>\n",
       "    <tr>\n",
       "      <th>2</th>\n",
       "      <td>-32</td>\n",
       "      <td>12.0</td>\n",
       "      <td>9.0</td>\n",
       "      <td>Active</td>\n",
       "      <td>0</td>\n",
       "      <td>0</td>\n",
       "    </tr>\n",
       "    <tr>\n",
       "      <th>3</th>\n",
       "      <td>-35</td>\n",
       "      <td>48.0</td>\n",
       "      <td>42.0</td>\n",
       "      <td>Active</td>\n",
       "      <td>0</td>\n",
       "      <td>0</td>\n",
       "    </tr>\n",
       "    <tr>\n",
       "      <th>4</th>\n",
       "      <td>-35</td>\n",
       "      <td>36.0</td>\n",
       "      <td>35.0</td>\n",
       "      <td>Active</td>\n",
       "      <td>0</td>\n",
       "      <td>0</td>\n",
       "    </tr>\n",
       "  </tbody>\n",
       "</table>\n",
       "</div>"
      ],
      "text/plain": [
       "   MONTHS_BALANCE  CNT_INSTALMENT  CNT_INSTALMENT_FUTURE NAME_CONTRACT_STATUS  \\\n",
       "0             -31            48.0                   45.0               Active   \n",
       "1             -33            36.0                   35.0               Active   \n",
       "2             -32            12.0                    9.0               Active   \n",
       "3             -35            48.0                   42.0               Active   \n",
       "4             -35            36.0                   35.0               Active   \n",
       "\n",
       "   SK_DPD  SK_DPD_DEF  \n",
       "0       0           0  \n",
       "1       0           0  \n",
       "2       0           0  \n",
       "3       0           0  \n",
       "4       0           0  "
      ]
     },
     "execution_count": 8,
     "metadata": {},
     "output_type": "execute_result"
    }
   ],
   "source": [
    "#Drop 2 features 'SK_ID_PREV','SK_ID_CURR' because I think it doesn't need to extract \n",
    "#information of 2 features when we do EDA\n",
    "POS_CASH_balance.drop(['SK_ID_PREV','SK_ID_CURR'], axis = 1, inplace=True)\n",
    "print('POS_CASH Shape:', POS_CASH_balance.shape)\n",
    "POS_CASH_balance.head(5)"
   ]
  },
  {
   "cell_type": "markdown",
   "metadata": {},
   "source": [
    "# PERFORMING EDA"
   ]
  },
  {
   "cell_type": "code",
   "execution_count": 5,
   "metadata": {
    "execution": {
     "iopub.execute_input": "2022-11-02T16:06:55.810638Z",
     "iopub.status.busy": "2022-11-02T16:06:55.810253Z",
     "iopub.status.idle": "2022-11-02T16:07:03.482914Z",
     "shell.execute_reply": "2022-11-02T16:07:03.481744Z",
     "shell.execute_reply.started": "2022-11-02T16:06:55.810607Z"
    }
   },
   "outputs": [
    {
     "data": {
      "image/png": "[encoded data removed]",
      "text/plain": [
       "<Figure size 1440x720 with 1 Axes>"
      ]
     },
     "metadata": {
      "needs_background": "light"
     },
     "output_type": "display_data"
    }
   ],
   "source": [
    "#Select all the columns that have 'object' type to  extract information from each features\n",
    "categorical_features_lst = POS_CASH_balance.select_dtypes([\"object\"]).columns.tolist()\n",
    "\n",
    "for feature in categorical_features_lst:\n",
    "    fig, ax = plt.subplots(figsize = (20, 10)) \n",
    "    if POS_CASH_balance[feature].nunique() < 10:\n",
    "        sns.countplot(data = POS_CASH_balance, x = feature)\n",
    "    else: \n",
    "        sns.countplot(data = POS_CASH_balance, y = feature)\n",
    "    ax.set_title(\"Count plot of each level of the feature: \" + feature)"
   ]
  },
  {
   "cell_type": "markdown",
   "metadata": {},
   "source": [
    "In this dataset, there is only one categorical feature that indicates the contract status on the previous application. We can see that most previous application are still active."
   ]
  },
  {
   "cell_type": "code",
   "execution_count": 6,
   "metadata": {
    "execution": {
     "iopub.execute_input": "2022-11-02T16:07:06.758863Z",
     "iopub.status.busy": "2022-11-02T16:07:06.758476Z",
     "iopub.status.idle": "2022-11-02T16:07:07.011398Z",
     "shell.execute_reply": "2022-11-02T16:07:07.010303Z",
     "shell.execute_reply.started": "2022-11-02T16:07:06.758831Z"
    }
   },
   "outputs": [
    {
     "name": "stderr",
     "output_type": "stream",
     "text": [
      "/opt/conda/lib/python3.7/site-packages/pandas/core/frame.py:5182: SettingWithCopyWarning: \n",
      "A value is trying to be set on a copy of a slice from a DataFrame\n",
      "\n",
      "See the caveats in the documentation: https://pandas.pydata.org/pandas-docs/stable/user_guide/indexing.html#returning-a-view-versus-a-copy\n",
      "  downcast=downcast,\n"
     ]
    }
   ],
   "source": [
    "#Select columns which have 2 types \"float64\", \"int64\"\n",
    "numerical_features_lst = list(set(POS_CASH_balance.columns.tolist()) - set(categorical_features_lst))\n",
    "\n",
    "# generate the linkage matrix\n",
    "numerical_features_df = POS_CASH_balance[numerical_features_lst]\n",
    "numerical_features_df.fillna(-1, inplace = True)"
   ]
  },
  {
   "cell_type": "markdown",
   "metadata": {},
   "source": [
    "# Histogram of the numerical features"
   ]
  },
  {
   "cell_type": "code",
   "execution_count": 14,
   "metadata": {
    "execution": {
     "iopub.execute_input": "2022-11-01T15:32:17.139472Z",
     "iopub.status.busy": "2022-11-01T15:32:17.137865Z",
     "iopub.status.idle": "2022-11-01T15:32:21.237905Z",
     "shell.execute_reply": "2022-11-01T15:32:21.236487Z",
     "shell.execute_reply.started": "2022-11-01T15:32:17.139406Z"
    }
   },
   "outputs": [
    {
     "name": "stderr",
     "output_type": "stream",
     "text": [
      "/opt/conda/lib/python3.7/site-packages/seaborn/distributions.py:2619: FutureWarning: `distplot` is a deprecated function and will be removed in a future version. Please adapt your code to use either `displot` (a figure-level function with similar flexibility) or `histplot` (an axes-level function for histograms).\n",
      "  warnings.warn(msg, FutureWarning)\n"
     ]
    },
    {
     "data": {
      "image/png": "[encoded data removed]",
      "text/plain": [
       "<Figure size 1440x504 with 1 Axes>"
      ]
     },
     "metadata": {
      "needs_background": "light"
     },
     "output_type": "display_data"
    },
    {
     "data": {
      "image/png": "[encoded data removed]",
      "text/plain": [
       "<Figure size 1440x504 with 1 Axes>"
      ]
     },
     "metadata": {
      "needs_background": "light"
     },
     "output_type": "display_data"
    },
    {
     "data": {
      "image/png": "[encoded data removed]",
      "text/plain": [
       "<Figure size 1440x504 with 1 Axes>"
      ]
     },
     "metadata": {
      "needs_background": "light"
     },
     "output_type": "display_data"
    },
    {
     "data": {
      "image/png": "[encoded data removed]",
      "text/plain": [
       "<Figure size 1440x504 with 1 Axes>"
      ]
     },
     "metadata": {
      "needs_background": "light"
     },
     "output_type": "display_data"
    },
    {
     "data": {
      "image/png": "[encoded data removed]",
      "text/plain": [
       "<Figure size 1440x504 with 1 Axes>"
      ]
     },
     "metadata": {
      "needs_background": "light"
     },
     "output_type": "display_data"
    }
   ],
   "source": [
    "#Visualize all numerical features to see problems\n",
    "for feature in numerical_features_lst:\n",
    "    fig, ax = plt.subplots(1, 1, sharex = False, sharey = False, figsize = (20, 7))\n",
    "    \n",
    "    # Plot feature distribution\n",
    "    sns.distplot(POS_CASH_balance[feature].dropna(), kde = False, bins = 100, ax = ax, color = 'g')\n",
    "    ax.set_title(\"Histogram of the feature: \" + feature)"
   ]
  },
  {
   "cell_type": "markdown",
   "metadata": {},
   "source": [
    "Here we can see lots of outliers in the features and high skewness. There are also missing bins in MONTHS_BALANCE.\n",
    "\n",
    "We can see that SK_DPD_DEF vs SK_DPD have a lot of 0 value."
   ]
  },
  {
   "cell_type": "markdown",
   "metadata": {},
   "source": [
    "# Check outlier for numerical features"
   ]
  },
  {
   "cell_type": "code",
   "execution_count": 8,
   "metadata": {
    "execution": {
     "iopub.execute_input": "2022-11-02T16:12:43.690707Z",
     "iopub.status.busy": "2022-11-02T16:12:43.690236Z",
     "iopub.status.idle": "2022-11-02T16:12:50.330202Z",
     "shell.execute_reply": "2022-11-02T16:12:50.329269Z",
     "shell.execute_reply.started": "2022-11-02T16:12:43.690663Z"
    }
   },
   "outputs": [
    {
     "data": {
      "image/png": "[encoded data removed]",
      "text/plain": [
       "<Figure size 720x504 with 1 Axes>"
      ]
     },
     "metadata": {
      "needs_background": "light"
     },
     "output_type": "display_data"
    },
    {
     "data": {
      "image/png": "[encoded data removed]",
      "text/plain": [
       "<Figure size 720x504 with 1 Axes>"
      ]
     },
     "metadata": {
      "needs_background": "light"
     },
     "output_type": "display_data"
    },
    {
     "data": {
      "image/png": "[encoded data removed]",
      "text/plain": [
       "<Figure size 720x504 with 1 Axes>"
      ]
     },
     "metadata": {
      "needs_background": "light"
     },
     "output_type": "display_data"
    },
    {
     "data": {
      "image/png": "[encoded data removed]",
      "text/plain": [
       "<Figure size 720x504 with 1 Axes>"
      ]
     },
     "metadata": {
      "needs_background": "light"
     },
     "output_type": "display_data"
    },
    {
     "data": {
      "image/png": "[encoded data removed]",
      "text/plain": [
       "<Figure size 720x504 with 1 Axes>"
      ]
     },
     "metadata": {
      "needs_background": "light"
     },
     "output_type": "display_data"
    },
    {
     "data": {
      "image/png": "[encoded data removed]",
      "text/plain": [
       "<Figure size 720x504 with 1 Axes>"
      ]
     },
     "metadata": {
      "needs_background": "light"
     },
     "output_type": "display_data"
    },
    {
     "data": {
      "image/png": "[encoded data removed]",
      "text/plain": [
       "<Figure size 720x504 with 1 Axes>"
      ]
     },
     "metadata": {
      "needs_background": "light"
     },
     "output_type": "display_data"
    }
   ],
   "source": [
    "for feature in numerical_features_lst:\n",
    "    fig, ax = plt.subplots(1, 1, figsize = (10, 7))\n",
    "    plt.boxplot(POS_CASH_balance[feature].dropna(), patch_artist =True, vert = False)\n",
    "    ax.set_title(\"Boxplot of the feature: \" + feature)"
   ]
  },
  {
   "cell_type": "markdown",
   "metadata": {},
   "source": [
    "We can see that SK_DPD, SK_DPD_DEF, CNT_INSTALMENT, CNT_INSTALMENT_FUTURE have outlier values"
   ]
  },
  {
   "cell_type": "markdown",
   "metadata": {},
   "source": [
    "# Plot heatmap to show correlation between numerical features"
   ]
  },
  {
   "cell_type": "code",
   "execution_count": 30,
   "metadata": {
    "execution": {
     "iopub.execute_input": "2022-11-01T08:32:11.253505Z",
     "iopub.status.busy": "2022-11-01T08:32:11.253147Z",
     "iopub.status.idle": "2022-11-01T08:32:12.277820Z",
     "shell.execute_reply": "2022-11-01T08:32:12.276896Z",
     "shell.execute_reply.started": "2022-11-01T08:32:11.253478Z"
    }
   },
   "outputs": [
    {
     "data": {
      "text/plain": [
       "Text(0.5, 1.0, 'Correlation plot between numerical features')"
      ]
     },
     "execution_count": 30,
     "metadata": {},
     "output_type": "execute_result"
    },
    {
     "data": {
      "image/png": "[encoded data removed]",
      "text/plain": [
       "<Figure size 1080x1080 with 2 Axes>"
      ]
     },
     "metadata": {
      "needs_background": "light"
     },
     "output_type": "display_data"
    }
   ],
   "source": [
    "plt.figure(figsize = (15, 15))\n",
    "sns.heatmap(POS_CASH_balance.corr(), annot = True, alpha = 0.5, fmt = \".4f\", square = True)\n",
    "plt.title(\"Correlation plot between numerical features\")"
   ]
  },
  {
   "cell_type": "markdown",
   "metadata": {},
   "source": [
    "Here, we can see that CNT_INSTALMENT and CNT_INTSALMENT_FUTURE are highly correlated but not enough to remove"
   ]
  },
  {
   "cell_type": "markdown",
   "metadata": {},
   "source": [
    "# END EDA"
   ]
  },
  {
   "cell_type": "markdown",
   "metadata": {},
   "source": [
    "# DATA CLEANING"
   ]
  },
  {
   "cell_type": "code",
   "execution_count": 10,
   "metadata": {
    "execution": {
     "iopub.execute_input": "2022-11-02T13:49:28.540875Z",
     "iopub.status.busy": "2022-11-02T13:49:28.540416Z",
     "iopub.status.idle": "2022-11-02T13:49:29.109502Z",
     "shell.execute_reply": "2022-11-02T13:49:29.108121Z",
     "shell.execute_reply.started": "2022-11-02T13:49:28.540842Z"
    }
   },
   "outputs": [
    {
     "data": {
      "text/html": [
       "<div>\n",
       "<style scoped>\n",
       "    .dataframe tbody tr th:only-of-type {\n",
       "        vertical-align: middle;\n",
       "    }\n",
       "\n",
       "    .dataframe tbody tr th {\n",
       "        vertical-align: top;\n",
       "    }\n",
       "\n",
       "    .dataframe thead th {\n",
       "        text-align: right;\n",
       "    }\n",
       "</style>\n",
       "<table border=\"1\" class=\"dataframe\">\n",
       "  <thead>\n",
       "    <tr style=\"text-align: right;\">\n",
       "      <th></th>\n",
       "      <th>Percentage of missing values</th>\n",
       "    </tr>\n",
       "  </thead>\n",
       "  <tbody>\n",
       "    <tr>\n",
       "      <th>SK_ID_PREV</th>\n",
       "      <td>0.000000</td>\n",
       "    </tr>\n",
       "    <tr>\n",
       "      <th>SK_ID_CURR</th>\n",
       "      <td>0.000000</td>\n",
       "    </tr>\n",
       "    <tr>\n",
       "      <th>MONTHS_BALANCE</th>\n",
       "      <td>0.000000</td>\n",
       "    </tr>\n",
       "    <tr>\n",
       "      <th>CNT_INSTALMENT</th>\n",
       "      <td>0.260675</td>\n",
       "    </tr>\n",
       "    <tr>\n",
       "      <th>CNT_INSTALMENT_FUTURE</th>\n",
       "      <td>0.260835</td>\n",
       "    </tr>\n",
       "    <tr>\n",
       "      <th>NAME_CONTRACT_STATUS</th>\n",
       "      <td>0.000000</td>\n",
       "    </tr>\n",
       "    <tr>\n",
       "      <th>SK_DPD</th>\n",
       "      <td>0.000000</td>\n",
       "    </tr>\n",
       "    <tr>\n",
       "      <th>SK_DPD_DEF</th>\n",
       "      <td>0.000000</td>\n",
       "    </tr>\n",
       "  </tbody>\n",
       "</table>\n",
       "</div>"
      ],
      "text/plain": [
       "                       Percentage of missing values\n",
       "SK_ID_PREV                                 0.000000\n",
       "SK_ID_CURR                                 0.000000\n",
       "MONTHS_BALANCE                             0.000000\n",
       "CNT_INSTALMENT                             0.260675\n",
       "CNT_INSTALMENT_FUTURE                      0.260835\n",
       "NAME_CONTRACT_STATUS                       0.000000\n",
       "SK_DPD                                     0.000000\n",
       "SK_DPD_DEF                                 0.000000"
      ]
     },
     "execution_count": 10,
     "metadata": {},
     "output_type": "execute_result"
    }
   ],
   "source": [
    "null_percent = pd.DataFrame()\n",
    "percent = POS_CASH_balance.isnull().sum()/POS_CASH_balance.shape[0]* 100\n",
    "null_percent['Percentage of missing values'] = percent\n",
    "null_percent"
   ]
  },
  {
   "cell_type": "markdown",
   "metadata": {},
   "source": [
    "The percentage of missing values is too low, we don't need to delete any feature by this way\n",
    "\n",
    "The correlation of each couple features is under |0.9|, we don't need to delete any feature by this way"
   ]
  },
  {
   "cell_type": "code",
   "execution_count": 24,
   "metadata": {
    "execution": {
     "iopub.execute_input": "2022-11-03T01:47:51.956486Z",
     "iopub.status.busy": "2022-11-03T01:47:51.956159Z",
     "iopub.status.idle": "2022-11-03T01:47:53.119968Z",
     "shell.execute_reply": "2022-11-03T01:47:53.118912Z",
     "shell.execute_reply.started": "2022-11-03T01:47:51.956463Z"
    }
   },
   "outputs": [
    {
     "data": {
      "text/html": [
       "<div>\n",
       "<style scoped>\n",
       "    .dataframe tbody tr th:only-of-type {\n",
       "        vertical-align: middle;\n",
       "    }\n",
       "\n",
       "    .dataframe tbody tr th {\n",
       "        vertical-align: top;\n",
       "    }\n",
       "\n",
       "    .dataframe thead th {\n",
       "        text-align: right;\n",
       "    }\n",
       "</style>\n",
       "<table border=\"1\" class=\"dataframe\">\n",
       "  <thead>\n",
       "    <tr style=\"text-align: right;\">\n",
       "      <th></th>\n",
       "      <th>Percentage of zero values</th>\n",
       "    </tr>\n",
       "  </thead>\n",
       "  <tbody>\n",
       "    <tr>\n",
       "      <th>SK_DPD</th>\n",
       "      <td>97.048131</td>\n",
       "    </tr>\n",
       "    <tr>\n",
       "      <th>SK_DPD_DEF</th>\n",
       "      <td>98.860465</td>\n",
       "    </tr>\n",
       "  </tbody>\n",
       "</table>\n",
       "</div>"
      ],
      "text/plain": [
       "            Percentage of zero values\n",
       "SK_DPD                      97.048131\n",
       "SK_DPD_DEF                  98.860465"
      ]
     },
     "execution_count": 24,
     "metadata": {},
     "output_type": "execute_result"
    }
   ],
   "source": [
    "#Show the percentage of zero values in two columns 'SK_DPD', 'SK_DPD_DEF'\n",
    "percent_zero = pd.DataFrame()\n",
    "percent1 = (POS_CASH_balance[POS_CASH_balance['SK_DPD'] == 0]['SK_DPD'].value_counts().sum()/POS_CASH_balance.shape[0])* 100\n",
    "percent2 = (POS_CASH_balance[POS_CASH_balance['SK_DPD_DEF'] == 0]['SK_DPD_DEF'].value_counts().sum()/POS_CASH_balance.shape[0])* 100\n",
    "percent_zero['Percentage of zero values'] = percent1, percent2\n",
    "percent_zero.index = ['SK_DPD', 'SK_DPD_DEF']\n",
    "percent_zero"
   ]
  },
  {
   "cell_type": "markdown",
   "metadata": {},
   "source": [
    "SK_DPD_DEF vs SK_DPD have a lot of 0 value (nearly 100%), so we delete these features"
   ]
  },
  {
   "cell_type": "code",
   "execution_count": 25,
   "metadata": {
    "execution": {
     "iopub.execute_input": "2022-11-03T01:47:59.275962Z",
     "iopub.status.busy": "2022-11-03T01:47:59.275638Z",
     "iopub.status.idle": "2022-11-03T01:47:59.491160Z",
     "shell.execute_reply": "2022-11-03T01:47:59.489674Z",
     "shell.execute_reply.started": "2022-11-03T01:47:59.275939Z"
    }
   },
   "outputs": [],
   "source": [
    "POS_CASH_balance.drop(['SK_DPD_DEF','SK_DPD'], inplace=True, axis = 1)"
   ]
  },
  {
   "cell_type": "code",
   "execution_count": 26,
   "metadata": {
    "execution": {
     "iopub.execute_input": "2022-11-03T01:48:01.688435Z",
     "iopub.status.busy": "2022-11-03T01:48:01.688118Z",
     "iopub.status.idle": "2022-11-03T01:48:01.701450Z",
     "shell.execute_reply": "2022-11-03T01:48:01.699563Z",
     "shell.execute_reply.started": "2022-11-03T01:48:01.688413Z"
    }
   },
   "outputs": [
    {
     "data": {
      "text/html": [
       "<div>\n",
       "<style scoped>\n",
       "    .dataframe tbody tr th:only-of-type {\n",
       "        vertical-align: middle;\n",
       "    }\n",
       "\n",
       "    .dataframe tbody tr th {\n",
       "        vertical-align: top;\n",
       "    }\n",
       "\n",
       "    .dataframe thead th {\n",
       "        text-align: right;\n",
       "    }\n",
       "</style>\n",
       "<table border=\"1\" class=\"dataframe\">\n",
       "  <thead>\n",
       "    <tr style=\"text-align: right;\">\n",
       "      <th></th>\n",
       "      <th>SK_ID_PREV</th>\n",
       "      <th>SK_ID_CURR</th>\n",
       "      <th>MONTHS_BALANCE</th>\n",
       "      <th>CNT_INSTALMENT</th>\n",
       "      <th>CNT_INSTALMENT_FUTURE</th>\n",
       "      <th>NAME_CONTRACT_STATUS</th>\n",
       "    </tr>\n",
       "  </thead>\n",
       "  <tbody>\n",
       "    <tr>\n",
       "      <th>0</th>\n",
       "      <td>1803195</td>\n",
       "      <td>182943</td>\n",
       "      <td>-31</td>\n",
       "      <td>48.0</td>\n",
       "      <td>45.0</td>\n",
       "      <td>Active</td>\n",
       "    </tr>\n",
       "    <tr>\n",
       "      <th>1</th>\n",
       "      <td>1715348</td>\n",
       "      <td>367990</td>\n",
       "      <td>-33</td>\n",
       "      <td>36.0</td>\n",
       "      <td>35.0</td>\n",
       "      <td>Active</td>\n",
       "    </tr>\n",
       "    <tr>\n",
       "      <th>2</th>\n",
       "      <td>1784872</td>\n",
       "      <td>397406</td>\n",
       "      <td>-32</td>\n",
       "      <td>12.0</td>\n",
       "      <td>9.0</td>\n",
       "      <td>Active</td>\n",
       "    </tr>\n",
       "    <tr>\n",
       "      <th>3</th>\n",
       "      <td>1903291</td>\n",
       "      <td>269225</td>\n",
       "      <td>-35</td>\n",
       "      <td>48.0</td>\n",
       "      <td>42.0</td>\n",
       "      <td>Active</td>\n",
       "    </tr>\n",
       "    <tr>\n",
       "      <th>4</th>\n",
       "      <td>2341044</td>\n",
       "      <td>334279</td>\n",
       "      <td>-35</td>\n",
       "      <td>36.0</td>\n",
       "      <td>35.0</td>\n",
       "      <td>Active</td>\n",
       "    </tr>\n",
       "  </tbody>\n",
       "</table>\n",
       "</div>"
      ],
      "text/plain": [
       "   SK_ID_PREV  SK_ID_CURR  MONTHS_BALANCE  CNT_INSTALMENT  \\\n",
       "0     1803195      182943             -31            48.0   \n",
       "1     1715348      367990             -33            36.0   \n",
       "2     1784872      397406             -32            12.0   \n",
       "3     1903291      269225             -35            48.0   \n",
       "4     2341044      334279             -35            36.0   \n",
       "\n",
       "   CNT_INSTALMENT_FUTURE NAME_CONTRACT_STATUS  \n",
       "0                   45.0               Active  \n",
       "1                   35.0               Active  \n",
       "2                    9.0               Active  \n",
       "3                   42.0               Active  \n",
       "4                   35.0               Active  "
      ]
     },
     "execution_count": 26,
     "metadata": {},
     "output_type": "execute_result"
    }
   ],
   "source": [
    "POS_CASH_balance.head()"
   ]
  },
  {
   "cell_type": "code",
   "execution_count": null,
   "metadata": {},
   "outputs": [],
   "source": []
  }
 ],
 "metadata": {
  "kernelspec": {
   "display_name": "Python 3",
   "language": "python",
   "name": "python3"
  },
  "language_info": {
   "codemirror_mode": {
    "name": "ipython",
    "version": 3
   },
   "file_extension": ".py",
   "mimetype": "text/x-python",
   "name": "python",
   "nbconvert_exporter": "python",
   "pygments_lexer": "ipython3",
   "version": "3.8.8"
  }
 },
 "nbformat": 4,
 "nbformat_minor": 4
}
